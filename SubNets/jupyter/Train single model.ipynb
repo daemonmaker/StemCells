{
 "cells": [
  {
   "cell_type": "markdown",
   "metadata": {},
   "source": [
    "The following trains a single model on MNIST.\n",
    "\n",
    "We'll need tensorflow, numpy and a model from custom_layers."
   ]
  },
  {
   "cell_type": "code",
   "execution_count": 1,
   "metadata": {},
   "outputs": [],
   "source": [
    "import tensorflow as tf\n",
    "import numpy as np\n",
    "from custom_layers import *"
   ]
  },
  {
   "cell_type": "code",
   "execution_count": null,
   "metadata": {},
   "outputs": [],
   "source": [
    "Create the model and inputs"
   ]
  },
  {
   "cell_type": "code",
   "execution_count": 22,
   "metadata": {},
   "outputs": [
    {
     "name": "stdout",
     "output_type": "stream",
     "text": [
      "Model: \"fully_connected_model_2\"\n",
      "_________________________________________________________________\n",
      "Layer (type)                 Output Shape              Param #   \n",
      "=================================================================\n",
      "flatten (Flatten)            multiple                  0         \n",
      "_________________________________________________________________\n",
      "encoder (Dense)              multiple                  100480    \n",
      "_________________________________________________________________\n",
      "custom_dropout_2 (CustomDrop multiple                  0         \n",
      "_________________________________________________________________\n",
      "output (Dense)               multiple                  1290      \n",
      "=================================================================\n",
      "Total params: 101,770\n",
      "Trainable params: 101,770\n",
      "Non-trainable params: 0\n",
      "_________________________________________________________________\n",
      "Failed to import pydot. You must install pydot and graphviz for `pydotprint` to work.\n"
     ]
    }
   ],
   "source": [
    "fc = FullyConnectedModel(output_size=10, hidden_layer_size=128, dropout_rate=1-0.2, batch_size=128, epochs=25)\n",
    "input_img = np.ones((1, 28, 28)).astype(np.float32)\n",
    "input_mask = np.ones((1, 128)).astype(np.float32)\n",
    "_ = fc([input_img, input_mask])\n",
    "fc.summary()\n",
    "tf.keras.utils.plot_model(fc, show_shapes=True)"
   ]
  },
  {
   "cell_type": "markdown",
   "metadata": {},
   "source": [
    "Create loss, optimizer, and metrics."
   ]
  },
  {
   "cell_type": "code",
   "execution_count": 5,
   "metadata": {},
   "outputs": [],
   "source": [
    "mse_loss_fn = tf.keras.losses.MeanSquaredError()\n",
    "optimizer = tf.keras.optimizers.Adam(learning_rate=1e-3)\n",
    "loss_metric = tf.keras.metrics.Mean()"
   ]
  },
  {
   "cell_type": "markdown",
   "metadata": {},
   "source": [
    "Prepare the data"
   ]
  },
  {
   "cell_type": "code",
   "execution_count": 25,
   "metadata": {},
   "outputs": [
    {
     "name": "stdout",
     "output_type": "stream",
     "text": [
      "(60000, 28, 28)\n",
      "(60000, 10)\n",
      "(60000, 128)\n",
      "<BatchDataset shapes: ((None, 28, 28), (None, 10)), types: (tf.float32, tf.float32)>\n"
     ]
    }
   ],
   "source": [
    "(x_train, y_train), _ = tf.keras.datasets.mnist.load_data()\n",
    "x_train = x_train.astype('float32') / 255\n",
    "masks_train = np.ones((x_train.shape[0], 128))\n",
    "y_train = tf.keras.backend.one_hot(y_train, 10)\n",
    "print(x_train.shape)\n",
    "print(y_train.shape)\n",
    "print(masks_train.shape)\n",
    "train_dataset = tf.data.Dataset.from_tensor_slices((x_train, y_train))\n",
    "train_dataset = train_dataset.shuffle(buffer_size=1024).batch(64)\n",
    "print(train_dataset)"
   ]
  },
  {
   "cell_type": "markdown",
   "metadata": {},
   "source": [
    "Train the model"
   ]
  },
  {
   "cell_type": "code",
   "execution_count": 27,
   "metadata": {},
   "outputs": [
    {
     "name": "stdout",
     "output_type": "stream",
     "text": [
      "Start of epoch 0\n",
      "step 0: mean loss = tf.Tensor(0.01055785, shape=(), dtype=float32)\n",
      "\tmean accuracy = tf.Tensor(0.953125, shape=(), dtype=float32)\n",
      "step 100: mean loss = tf.Tensor(0.010558846, shape=(), dtype=float32)\n",
      "\tmean accuracy = tf.Tensor(0.9631807, shape=(), dtype=float32)\n",
      "step 200: mean loss = tf.Tensor(0.0105639845, shape=(), dtype=float32)\n",
      "\tmean accuracy = tf.Tensor(0.96144277, shape=(), dtype=float32)\n",
      "step 300: mean loss = tf.Tensor(0.010569032, shape=(), dtype=float32)\n",
      "\tmean accuracy = tf.Tensor(0.9609116, shape=(), dtype=float32)\n",
      "step 400: mean loss = tf.Tensor(0.0105700195, shape=(), dtype=float32)\n",
      "\tmean accuracy = tf.Tensor(0.9619311, shape=(), dtype=float32)\n",
      "step 500: mean loss = tf.Tensor(0.010578792, shape=(), dtype=float32)\n",
      "\tmean accuracy = tf.Tensor(0.96107787, shape=(), dtype=float32)\n",
      "step 600: mean loss = tf.Tensor(0.010582772, shape=(), dtype=float32)\n",
      "\tmean accuracy = tf.Tensor(0.96126246, shape=(), dtype=float32)\n",
      "step 700: mean loss = tf.Tensor(0.010586391, shape=(), dtype=float32)\n",
      "\tmean accuracy = tf.Tensor(0.961439, shape=(), dtype=float32)\n",
      "step 800: mean loss = tf.Tensor(0.010591807, shape=(), dtype=float32)\n",
      "\tmean accuracy = tf.Tensor(0.9613374, shape=(), dtype=float32)\n",
      "step 900: mean loss = tf.Tensor(0.010589684, shape=(), dtype=float32)\n",
      "\tmean accuracy = tf.Tensor(0.962004, shape=(), dtype=float32)\n",
      "Start of epoch 1\n",
      "step 0: mean loss = tf.Tensor(0.0105836075, shape=(), dtype=float32)\n",
      "\tmean accuracy = tf.Tensor(0.9626232, shape=(), dtype=float32)\n",
      "step 100: mean loss = tf.Tensor(0.010579624, shape=(), dtype=float32)\n",
      "\tmean accuracy = tf.Tensor(0.9629875, shape=(), dtype=float32)\n",
      "step 200: mean loss = tf.Tensor(0.010578809, shape=(), dtype=float32)\n",
      "\tmean accuracy = tf.Tensor(0.9632329, shape=(), dtype=float32)\n",
      "step 300: mean loss = tf.Tensor(0.010578802, shape=(), dtype=float32)\n",
      "\tmean accuracy = tf.Tensor(0.96343863, shape=(), dtype=float32)\n",
      "step 400: mean loss = tf.Tensor(0.010575421, shape=(), dtype=float32)\n",
      "\tmean accuracy = tf.Tensor(0.9637304, shape=(), dtype=float32)\n",
      "step 500: mean loss = tf.Tensor(0.010577504, shape=(), dtype=float32)\n",
      "\tmean accuracy = tf.Tensor(0.96373177, shape=(), dtype=float32)\n",
      "step 600: mean loss = tf.Tensor(0.010576723, shape=(), dtype=float32)\n",
      "\tmean accuracy = tf.Tensor(0.9638853, shape=(), dtype=float32)\n",
      "step 700: mean loss = tf.Tensor(0.0105754975, shape=(), dtype=float32)\n",
      "\tmean accuracy = tf.Tensor(0.9639247, shape=(), dtype=float32)\n",
      "step 800: mean loss = tf.Tensor(0.010577171, shape=(), dtype=float32)\n",
      "\tmean accuracy = tf.Tensor(0.96392363, shape=(), dtype=float32)\n",
      "step 900: mean loss = tf.Tensor(0.010571427, shape=(), dtype=float32)\n",
      "\tmean accuracy = tf.Tensor(0.96423715, shape=(), dtype=float32)\n",
      "Start of epoch 2\n",
      "step 0: mean loss = tf.Tensor(0.010564945, shape=(), dtype=float32)\n",
      "\tmean accuracy = tf.Tensor(0.9645772, shape=(), dtype=float32)\n",
      "step 100: mean loss = tf.Tensor(0.010557911, shape=(), dtype=float32)\n",
      "\tmean accuracy = tf.Tensor(0.9648754, shape=(), dtype=float32)\n",
      "step 200: mean loss = tf.Tensor(0.0105556445, shape=(), dtype=float32)\n",
      "\tmean accuracy = tf.Tensor(0.96492654, shape=(), dtype=float32)\n",
      "step 300: mean loss = tf.Tensor(0.010551671, shape=(), dtype=float32)\n",
      "\tmean accuracy = tf.Tensor(0.96508074, shape=(), dtype=float32)\n",
      "step 400: mean loss = tf.Tensor(0.010545238, shape=(), dtype=float32)\n",
      "\tmean accuracy = tf.Tensor(0.96529, shape=(), dtype=float32)\n",
      "step 500: mean loss = tf.Tensor(0.010546077, shape=(), dtype=float32)\n",
      "\tmean accuracy = tf.Tensor(0.9651594, shape=(), dtype=float32)\n",
      "step 600: mean loss = tf.Tensor(0.010540441, shape=(), dtype=float32)\n",
      "\tmean accuracy = tf.Tensor(0.96539277, shape=(), dtype=float32)\n",
      "step 700: mean loss = tf.Tensor(0.010537451, shape=(), dtype=float32)\n",
      "\tmean accuracy = tf.Tensor(0.96546245, shape=(), dtype=float32)\n",
      "step 800: mean loss = tf.Tensor(0.010535745, shape=(), dtype=float32)\n",
      "\tmean accuracy = tf.Tensor(0.9655269, shape=(), dtype=float32)\n",
      "step 900: mean loss = tf.Tensor(0.010528431, shape=(), dtype=float32)\n",
      "\tmean accuracy = tf.Tensor(0.9657387, shape=(), dtype=float32)\n"
     ]
    }
   ],
   "source": [
    "epochs = 3\n",
    "accuracy = tf.keras.metrics.CategoricalAccuracy()\n",
    "\n",
    "# Iterate over epochs.\n",
    "for epoch in range(epochs):\n",
    "  print('Start of epoch %d' % (epoch,))\n",
    "\n",
    "  # Iterate over the batches of the dataset.\n",
    "  for step, (x_train, y_train) in enumerate(train_dataset):\n",
    "    with tf.GradientTape() as tape:\n",
    "      masks = np.ones((x_train.shape[0], 128))\n",
    "      logits = fc([x_train, masks])\n",
    "      # Compute reconstruction loss\n",
    "      loss = mse_loss_fn(y_train, logits)\n",
    "\n",
    "    accuracy.update_state(y_train, logits)\n",
    "\n",
    "    grads = tape.gradient(loss, fc.trainable_weights)\n",
    "    optimizer.apply_gradients(zip(grads, fc.trainable_weights))\n",
    "\n",
    "    loss_metric(loss)\n",
    "\n",
    "    if step % 100 == 0:\n",
    "      print('step %s: mean loss = %s\\n\\tmean accuracy = %s' % (step, loss_metric.result(), accuracy.result()))\n"
   ]
  },
  {
   "cell_type": "code",
   "execution_count": null,
   "metadata": {},
   "outputs": [],
   "source": []
  },
  {
   "cell_type": "code",
   "execution_count": null,
   "metadata": {},
   "outputs": [],
   "source": []
  }
 ],
 "metadata": {
  "kernelspec": {
   "display_name": "Python 3",
   "language": "python",
   "name": "python3"
  },
  "language_info": {
   "codemirror_mode": {
    "name": "ipython",
    "version": 3
   },
   "file_extension": ".py",
   "mimetype": "text/x-python",
   "name": "python",
   "nbconvert_exporter": "python",
   "pygments_lexer": "ipython3",
   "version": "3.7.6"
  }
 },
 "nbformat": 4,
 "nbformat_minor": 4
}
